{
 "cells": [
  {
   "cell_type": "code",
   "execution_count": 1,
   "metadata": {},
   "outputs": [],
   "source": []
  },
  {
   "cell_type": "code",
   "execution_count": 8,
   "source": [
    "color_db = [[255,0,0], [254,100,100], [128, 45, 24], [255, 245, 221]]\n",
    "for i in range(1,len(color_db)):\n",
    "    if (color_db[i-1][0]>100 and color_db[i-1][0]>color_db[i-1][1]*2 and color_db[i-1][0]>color_db[i-1][2]/2):\n",
    "        print(f'The red color shade {i}: {color_db[i]}')"
   ],
   "outputs": [
    {
     "output_type": "stream",
     "name": "stdout",
     "text": [
      "The red color shade 1: [254, 100, 100]\nThe red color shade 2: [128, 45, 24]\nThe red color shade 3: [255, 245, 221]\n"
     ]
    }
   ],
   "metadata": {}
  },
  {
   "cell_type": "code",
   "execution_count": 4,
   "source": [
    "def array(n,k):\n",
    "    l=[]\n",
    "    for i in range(1,n+1):\n",
    "            if not l and len(l)<=k:\n",
    "                l.append(i)\n",
    "            else:\n",
    "                l.append(1)\n",
    "    return l\n",
    "n=int(input())\n",
    "k=int(input())\n",
    "\n",
    "for i in range(1,n):\n",
    "    print(array(n,k))\n"
   ],
   "outputs": [
    {
     "output_type": "stream",
     "name": "stdout",
     "text": [
      "[1, 1]\n"
     ]
    }
   ],
   "metadata": {}
  },
  {
   "cell_type": "code",
   "execution_count": 2,
   "source": [
    "def fun():\n",
    "    a=3\n",
    "    b=1\n",
    "    c=2\n",
    "    b=b^a^c^2\n",
    "    if(b and c):\n",
    "        b=1\n",
    "        if(a):\n",
    "            a=a*a%5\n",
    "        c=0\n",
    "    print(a+b+c)\n",
    "fun()\n"
   ],
   "outputs": [
    {
     "output_type": "stream",
     "name": "stdout",
     "text": [
      "5\n"
     ]
    }
   ],
   "metadata": {}
  },
  {
   "cell_type": "code",
   "execution_count": 3,
   "source": [
    "3%5"
   ],
   "outputs": [
    {
     "output_type": "execute_result",
     "data": {
      "text/plain": [
       "3"
      ]
     },
     "metadata": {},
     "execution_count": 3
    }
   ],
   "metadata": {}
  },
  {
   "cell_type": "code",
   "execution_count": 4,
   "source": [
    "%5\n"
   ],
   "outputs": [
    {
     "output_type": "execute_result",
     "data": {
      "text/plain": [
       "4"
      ]
     },
     "metadata": {},
     "execution_count": 4
    }
   ],
   "metadata": {}
  },
  {
   "cell_type": "code",
   "execution_count": 7,
   "source": [
    "class Solution(object):\n",
    "    def areOccurrencesEqual(self, s):\n",
    "        \"\"\"\n",
    "        :type s: str\n",
    "        :rtype: bool\n",
    "        \"\"\"\n",
    "        \n",
    "        self.s=s\n",
    "        string={}\n",
    "        for i in self.s:\n",
    "            try:\n",
    "                string[i]+=1\n",
    "            except:\n",
    "                string[i]=1\n",
    "        occurences = True\n",
    "        j=string[i]\n",
    "        for v in string.values():\n",
    "            if(v!=j):\n",
    "                occurences=False\n",
    "                break\n",
    "            \n",
    "        return occurences\n",
    "c=Solution()\n",
    "c.areOccurrencesEqual(\"abcdefga\")"
   ],
   "outputs": [
    {
     "output_type": "execute_result",
     "data": {
      "text/plain": [
       "False"
      ]
     },
     "metadata": {},
     "execution_count": 7
    }
   ],
   "metadata": {}
  },
  {
   "cell_type": "code",
   "execution_count": 65,
   "source": [
    "n=3\n",
    "k=3\n",
    "dict_array={}\n",
    "for i in range(1,n+1):\n",
    "    for j in range(1,n+1):\n",
    "        if(j%i)==0:\n",
    "            try:\n",
    "                dict_array[i]+=[[i,j]]\n",
    "            except:\n",
    "                dict_array[i]=[[i,j]]\n",
    "\n",
    "for i in dict_array.values():\n",
    "    if len(i)>1:\n",
    "        for j in range(len(i)):\n",
    "            print(i[j])\n",
    "    else:\n",
    "        print(i[0])"
   ],
   "outputs": [
    {
     "output_type": "stream",
     "name": "stdout",
     "text": [
      "[1, 1]\n",
      "[1, 2]\n",
      "[1, 3]\n",
      "[2, 2]\n",
      "[3, 3]\n"
     ]
    }
   ],
   "metadata": {}
  },
  {
   "cell_type": "code",
   "execution_count": 50,
   "source": [
    "1%2"
   ],
   "outputs": [
    {
     "output_type": "execute_result",
     "data": {
      "text/plain": [
       "1"
      ]
     },
     "metadata": {},
     "execution_count": 50
    }
   ],
   "metadata": {}
  },
  {
   "cell_type": "code",
   "execution_count": 81,
   "source": [
    "def interchange(s,a,b):\n",
    "    s=list(s)\n",
    "    (s[a],s[b])=(s[b],s[a])\n",
    "    return ''.join(s)\n",
    "def permutations(s,l,r):\n",
    "    if l==r:\n",
    "        print(s)\n",
    "    for i in range(l,r+1):\n",
    "        s=interchange(s,l,i)\n",
    "        permutations(s,l+1,r)\n",
    "        s=interchange(s,l,i)\n",
    "permutations('abc',0,2)"
   ],
   "outputs": [
    {
     "output_type": "stream",
     "name": "stdout",
     "text": [
      "abc\n",
      "acb\n",
      "bac\n",
      "bca\n",
      "cba\n",
      "cab\n"
     ]
    }
   ],
   "metadata": {}
  },
  {
   "cell_type": "code",
   "execution_count": 76,
   "source": [
    "def fib(n):\n",
    "    if n<2:\n",
    "        return n \n",
    "    else:\n",
    "        return fib(n-1) + fib(n-2)\n"
   ],
   "outputs": [
    {
     "output_type": "execute_result",
     "data": {
      "text/plain": [
       "8"
      ]
     },
     "metadata": {},
     "execution_count": 76
    }
   ],
   "metadata": {}
  },
  {
   "cell_type": "code",
   "execution_count": 78,
   "source": [
    "s=\"abc\"\n",
    "k=list(s)\n",
    "print(k)"
   ],
   "outputs": [
    {
     "output_type": "stream",
     "name": "stdout",
     "text": [
      "['a', 'b', 'c']\n"
     ]
    }
   ],
   "metadata": {}
  },
  {
   "cell_type": "code",
   "execution_count": 20,
   "source": [
    "def fn(string,num):\n",
    "    new_num=0\n",
    "    for i in range(len(string)):\n",
    "        rem=num%10\n",
    "        new_num+=rem\n",
    "        num=num//10\n",
    "    return new_num\n",
    "def st(s,k):\n",
    "    \n",
    "    string=''\n",
    "    for i in s:\n",
    "        string=string+str(ord(i)-ord('a')+1)\n",
    "    num=int(string)\n",
    "    new_num=0\n",
    "    \n",
    "    while(k>0):\n",
    "        \n",
    "        num=fn(string,num)\n",
    "        \n",
    "        k=k-1\n",
    "    \n",
    "    return num\n",
    "\n",
    "st(\"leetcode\",2)"
   ],
   "outputs": [
    {
     "output_type": "execute_result",
     "data": {
      "text/plain": [
       "6"
      ]
     },
     "metadata": {},
     "execution_count": 20
    }
   ],
   "metadata": {}
  },
  {
   "cell_type": "code",
   "execution_count": 48,
   "source": [
    "n=\"012\"\n",
    "num=[]\n",
    "for i in n:\n",
    "    num+=[int(i)]\n",
    "old_num=num[:]\n",
    "new_num=0\n",
    "max_num=0\n",
    "change=[9,8,5,0,3,6,4,2,6,8]\n",
    "for i in range(len(num)):\n",
    "    if(num[i]<change[num[i]]):\n",
    "        num[i]=change[num[i]]\n",
    "        print(num)\n",
    "        new_num=int(\"\".join(map(str,num)))\n",
    "        max_num=max(max_num,new_num)\n",
    "        num[i]=old_num[i]\n",
    "print(max_num)"
   ],
   "outputs": [
    {
     "output_type": "stream",
     "name": "stdout",
     "text": [
      "[9, 1, 2]\n",
      "[0, 8, 2]\n",
      "[0, 1, 5]\n",
      "912\n"
     ]
    }
   ],
   "metadata": {}
  },
  {
   "cell_type": "code",
   "execution_count": 2,
   "source": [],
   "outputs": [
    {
     "output_type": "error",
     "ename": "ValueError",
     "evalue": "invalid literal for int() with base 10: ''",
     "traceback": [
      "\u001b[0;31m---------------------------------------------------------------------------\u001b[0m",
      "\u001b[0;31mValueError\u001b[0m                                Traceback (most recent call last)",
      "\u001b[0;32m<ipython-input-2-f1dc65ac6f57>\u001b[0m in \u001b[0;36m<module>\u001b[0;34m\u001b[0m\n\u001b[1;32m     12\u001b[0m \u001b[0mzero\u001b[0m\u001b[0;34m=\u001b[0m\u001b[0;34m[\u001b[0m\u001b[0;36m2\u001b[0m\u001b[0;34m,\u001b[0m\u001b[0;36m3\u001b[0m\u001b[0;34m]\u001b[0m\u001b[0;34m\u001b[0m\u001b[0;34m\u001b[0m\u001b[0m\n\u001b[1;32m     13\u001b[0m \u001b[0;34m\u001b[0m\u001b[0m\n\u001b[0;32m---> 14\u001b[0;31m \u001b[0mt\u001b[0m\u001b[0;34m=\u001b[0m\u001b[0mint\u001b[0m\u001b[0;34m(\u001b[0m\u001b[0minput\u001b[0m\u001b[0;34m(\u001b[0m\u001b[0;34m)\u001b[0m\u001b[0;34m)\u001b[0m\u001b[0;34m\u001b[0m\u001b[0;34m\u001b[0m\u001b[0m\n\u001b[0m\u001b[1;32m     15\u001b[0m \u001b[0;32mfor\u001b[0m \u001b[0mi\u001b[0m \u001b[0;32min\u001b[0m \u001b[0mrange\u001b[0m\u001b[0;34m(\u001b[0m\u001b[0mt\u001b[0m\u001b[0;34m)\u001b[0m\u001b[0;34m:\u001b[0m\u001b[0;34m\u001b[0m\u001b[0;34m\u001b[0m\u001b[0m\n\u001b[1;32m     16\u001b[0m     \u001b[0mn\u001b[0m\u001b[0;34m=\u001b[0m\u001b[0mint\u001b[0m\u001b[0;34m(\u001b[0m\u001b[0minput\u001b[0m\u001b[0;34m(\u001b[0m\u001b[0;34m)\u001b[0m\u001b[0;34m)\u001b[0m\u001b[0;34m\u001b[0m\u001b[0;34m\u001b[0m\u001b[0m\n",
      "\u001b[0;31mValueError\u001b[0m: invalid literal for int() with base 10: ''"
     ]
    }
   ],
   "metadata": {}
  },
  {
   "cell_type": "code",
   "execution_count": null,
   "source": [
    "def num(k,one,zero):\n",
    "    l=[3,4]\n",
    "    n=int(k)\n",
    "    if(n==1):\n",
    "        return [l[0]]\n",
    "    if (n==2):\n",
    "        return [l[1]]\n",
    "    new_one=one[n-2]+3*zero[n-3]\n",
    "    new_zero=2*zero[n-2]+2*one[n-3]\n",
    "    \n",
    "    l=[new_one,new_zero]\n",
    "    return l\n",
    "\n",
    "one=[3,4]\n",
    "zero=[2,3]\n",
    "\n",
    "t=int(input())\n",
    "for i in range(t):\n",
    "    k=input()\n",
    "    out=num(k,one,zero)\n",
    "\n",
    "    print(out[0])"
   ],
   "outputs": [],
   "metadata": {}
  },
  {
   "cell_type": "code",
   "execution_count": 1,
   "source": [
    "arr=[int(num) for num in input().split()]\n",
    "print(arr)"
   ],
   "outputs": [],
   "metadata": {}
  },
  {
   "cell_type": "code",
   "execution_count": null,
   "source": [],
   "outputs": [],
   "metadata": {}
  }
 ],
 "metadata": {
  "interpreter": {
   "hash": "63fd5069d213b44bf678585dea6b12cceca9941eaf7f819626cde1f2670de90d"
  },
  "kernelspec": {
   "name": "python3",
   "display_name": "Python 3.9.5 64-bit"
  },
  "language_info": {
   "codemirror_mode": {
    "name": "ipython",
    "version": 3
   },
   "file_extension": ".py",
   "mimetype": "text/x-python",
   "name": "python",
   "nbconvert_exporter": "python",
   "pygments_lexer": "ipython3",
   "version": "3.9.5"
  },
  "orig_nbformat": 4
 },
 "nbformat": 4,
 "nbformat_minor": 2
}