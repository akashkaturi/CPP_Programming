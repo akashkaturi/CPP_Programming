{
 "cells": [
  {
   "cell_type": "code",
   "execution_count": 6,
   "metadata": {},
   "outputs": [
    {
     "name": "stdout",
     "output_type": "stream",
     "text": [
      "The red color shade 1: [254, 100, 100]\n",
      "The red color shade 2: [128, 45, 24]\n",
      "The red color shade 3: [255, 245, 221]\n"
     ]
    }
   ],
   "source": [
    "color_db = [[255,0,0], [254,100,100], [128, 45, 24], [255, 245, 221]]\n",
    "for i in range(1,len(color_db)):\n",
    "    if (color_db[i-1][0]>100 and color_db[i-1][0]>color_db[i-1][1]*2 and color_db[i-1][0]>color_db[i-1][2]/2):\n",
    "        print(f'The red color shade {i}: {color_db[i]}')"
   ]
  },
  {
   "cell_type": "code",
   "execution_count": null,
   "metadata": {},
   "outputs": [],
   "source": []
  }
 ],
 "metadata": {
  "interpreter": {
   "hash": "916dbcbb3f70747c44a77c7bcd40155683ae19c65e1c03b4aa3499c5328201f1"
  },
  "kernelspec": {
   "display_name": "Python 3.9.5 64-bit",
   "name": "python3"
  },
  "language_info": {
   "codemirror_mode": {
    "name": "ipython",
    "version": 3
   },
   "file_extension": ".py",
   "mimetype": "text/x-python",
   "name": "python",
   "nbconvert_exporter": "python",
   "pygments_lexer": "ipython3",
   "version": "3.9.5"
  },
  "orig_nbformat": 4
 },
 "nbformat": 4,
 "nbformat_minor": 2
}