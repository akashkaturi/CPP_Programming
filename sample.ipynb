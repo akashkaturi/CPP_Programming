{
 "cells": [
  {
   "cell_type": "code",
   "execution_count": 6,
   "source": [
    "color_db = [[255,0,0], [254,100,100], [128, 45, 24], [255, 245, 221]]\n",
    "for i in range(1,len(color_db)):\n",
    "    if (color_db[i-1][0]>100 and color_db[i-1][0]>color_db[i-1][1]*2 and color_db[i-1][0]>color_db[i-1][2]/2):\n",
    "        print(f'The red color shade {i}: {color_db[i]}')"
   ],
   "outputs": [
    {
     "output_type": "stream",
     "name": "stdout",
     "text": [
      "The red color shade 1: [254, 100, 100]\n",
      "The red color shade 2: [128, 45, 24]\n",
      "The red color shade 3: [255, 245, 221]\n"
     ]
    }
   ],
   "metadata": {}
  },
  {
   "cell_type": "code",
   "execution_count": 4,
   "source": [
    "def array(n,k):\n",
    "    l=[]\n",
    "    for i in range(1,n+1):\n",
    "            if not l and len(l)<=k:\n",
    "                l.append(i)\n",
    "            else:\n",
    "                l.append(1)\n",
    "    return l\n",
    "n=int(input())\n",
    "k=int(input())\n",
    "\n",
    "for i in range(1,n):\n",
    "    print(array(n,k))\n"
   ],
   "outputs": [
    {
     "output_type": "stream",
     "name": "stdout",
     "text": [
      "[1, 1]\n"
     ]
    }
   ],
   "metadata": {}
  },
  {
   "cell_type": "code",
   "execution_count": null,
   "source": [],
   "outputs": [],
   "metadata": {}
  }
 ],
 "metadata": {
  "interpreter": {
   "hash": "31f2aee4e71d21fbe5cf8b01ff0e069b9275f58929596ceb00d14d90e3e16cd6"
  },
  "kernelspec": {
   "name": "python3",
   "display_name": "Python 3.9.5 64-bit"
  },
  "language_info": {
   "codemirror_mode": {
    "name": "ipython",
    "version": 3
   },
   "file_extension": ".py",
   "mimetype": "text/x-python",
   "name": "python",
   "nbconvert_exporter": "python",
   "pygments_lexer": "ipython3",
   "version": "3.9.5"
  },
  "orig_nbformat": 4
 },
 "nbformat": 4,
 "nbformat_minor": 2
}