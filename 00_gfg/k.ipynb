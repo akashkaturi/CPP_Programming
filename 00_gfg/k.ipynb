{
 "cells": [
  {
   "cell_type": "code",
   "execution_count": 1,
   "metadata": {},
   "outputs": [
    {
     "name": "stdout",
     "output_type": "stream",
     "text": [
      "9\n"
     ]
    }
   ],
   "source": [
    "a,b,c=1,3,9\n",
    "for c in range(3,4):\n",
    "    a=c+c \n",
    "    if((1^9)<a):\n",
    "        continue \n",
    "    else:\n",
    "        break \n",
    "    b=(a+b)+a \n",
    "print(a+b)"
   ]
  },
  {
   "cell_type": "code",
   "execution_count": 2,
   "metadata": {},
   "outputs": [
    {
     "data": {
      "text/plain": [
       "35"
      ]
     },
     "execution_count": 2,
     "metadata": {},
     "output_type": "execute_result"
    }
   ],
   "source": [
    "def funn(a,b):\n",
    "    if((a&b)<(b-a) and (1-a)<(a-b)):\n",
    "        a=1+a+b\n",
    "        a=a+3\n",
    "        return funn(a,a)+a \n",
    "    b=a+2\n",
    "    return b-1 \n",
    "funn(5,8)"
   ]
  },
  {
   "cell_type": "code",
   "execution_count": 5,
   "metadata": {},
   "outputs": [
    {
     "data": {
      "text/plain": [
       "33"
      ]
     },
     "execution_count": 5,
     "metadata": {},
     "output_type": "execute_result"
    }
   ],
   "source": [
    "def funn(a, b):\n",
    "\n",
    "    if(b-4) > (a^b) and (b^a)>(a-b):\n",
    "\n",
    "        a= (b+1) +a\n",
    "        a=a+2\n",
    "        b=b+1\n",
    "        return a+funn(a,b)\n",
    "\n",
    "    return a+1\n",
    "funn(6,7)"
   ]
  },
  {
   "cell_type": "code",
   "execution_count": 6,
   "metadata": {},
   "outputs": [
    {
     "name": "stdout",
     "output_type": "stream",
     "text": [
      "7\n"
     ]
    }
   ],
   "source": [
    "\n",
    "pp=5\n",
    "qq=2\n",
    "pr=9\n",
    "for rr in range (5,6):\n",
    "    if( (3-4) <(10-pp)):\n",
    "        break \n",
    "\n",
    "    qq=1+qq\n",
    "    pp=(pp+7) & pp\n",
    "\n",
    "print(pp+qq)"
   ]
  },
  {
   "cell_type": "code",
   "execution_count": 7,
   "metadata": {},
   "outputs": [
    {
     "name": "stdout",
     "output_type": "stream",
     "text": [
      "16\n"
     ]
    }
   ],
   "source": [
    "a,b,c=7,2,10\n",
    "for c in range(3,6):\n",
    "\n",
    "    a=(c+6)&b\n",
    "    if( (9-9)<(6-b)):\n",
    "\n",
    "        a=1&c\n",
    "        b=6+b\n",
    "\n",
    "\n",
    "\n",
    "print(a+b)"
   ]
  },
  {
   "cell_type": "code",
   "execution_count": 9,
   "metadata": {},
   "outputs": [
    {
     "name": "stdout",
     "output_type": "stream",
     "text": [
      "20\n"
     ]
    }
   ],
   "source": [
    "p,q,r=6,2,6\n",
    "r=(p&p) +p\n",
    "\n",
    "if(p-q-r)>(r-p):\n",
    "\n",
    "    if( (5-r+q)<(q-p)):\n",
    "\n",
    "        p=r+r\n",
    "\n",
    "        p=12^r\n",
    "\n",
    "\n",
    "\n",
    "print(p+q+r)"
   ]
  },
  {
   "cell_type": "code",
   "execution_count": 10,
   "metadata": {},
   "outputs": [
    {
     "name": "stdout",
     "output_type": "stream",
     "text": [
      "2\n"
     ]
    }
   ],
   "source": [
    "p,q,r=0,2,5\n",
    "for r in range(3,5):\n",
    "    if( (q^p^r)< (p+r+q)):\n",
    "        break\n",
    "\n",
    "    p=(r+r)+r\n",
    "    q=q+r \n",
    "print(p+q)"
   ]
  },
  {
   "cell_type": "code",
   "execution_count": 12,
   "metadata": {},
   "outputs": [
    {
     "name": "stdout",
     "output_type": "stream",
     "text": [
      "48\n"
     ]
    }
   ],
   "source": [
    "pp=1\n",
    "qq=6 \n",
    "rr=7\n",
    "\n",
    "pp=(7^1) +qq\n",
    "rr=9+qq\n",
    "pp=pp+pr\n",
    "print(pp+qq+rr)"
   ]
  },
  {
   "cell_type": "code",
   "execution_count": 13,
   "metadata": {},
   "outputs": [
    {
     "name": "stdout",
     "output_type": "stream",
     "text": [
      "14\n"
     ]
    }
   ],
   "source": [
    "p=1\n",
    "q=6\n",
    "r=7\n",
    "if( (r^q^p)> (p^r)):\n",
    "\n",
    "    p=q+g\n",
    "\n",
    "\n",
    "print (p+q+r)"
   ]
  },
  {
   "cell_type": "code",
   "execution_count": 14,
   "metadata": {},
   "outputs": [
    {
     "name": "stdout",
     "output_type": "stream",
     "text": [
      "62\n"
     ]
    }
   ],
   "source": [
    "p=5\n",
    "q=6\n",
    "r=8\n",
    "\n",
    "for r in range(5,7):\n",
    "\n",
    "    p=(q^10) +p\n",
    "\n",
    "    p=(r+p) ^a\n",
    "\n",
    "\n",
    "    r= (q+3) ^p\n",
    "print(p +q)"
   ]
  },
  {
   "cell_type": "code",
   "execution_count": 17,
   "metadata": {},
   "outputs": [
    {
     "name": "stdout",
     "output_type": "stream",
     "text": [
      "43\n"
     ]
    }
   ],
   "source": [
    "p=0\n",
    "q=7 \n",
    "r=4\n",
    "\n",
    "q=(1&1)+q\n",
    "if ( (p&q) < (r^p)):\n",
    "\n",
    "    r=(3+5) +r\n",
    "else:\n",
    "    p=r+    p\n",
    "\n",
    "\n",
    "q=r+q\n",
    "if ((1+5) > (p-1)):\n",
    "    q=7+r\n",
    "\n",
    "\n",
    "r=r+r\n",
    "\n",
    "print( p+q+r)"
   ]
  },
  {
   "cell_type": "code",
   "execution_count": null,
   "metadata": {},
   "outputs": [],
   "source": []
  }
 ],
 "metadata": {
  "kernelspec": {
   "display_name": "Python 3.10.4 64-bit",
   "language": "python",
   "name": "python3"
  },
  "language_info": {
   "codemirror_mode": {
    "name": "ipython",
    "version": 3
   },
   "file_extension": ".py",
   "mimetype": "text/x-python",
   "name": "python",
   "nbconvert_exporter": "python",
   "pygments_lexer": "ipython3",
   "version": "3.10.4"
  },
  "orig_nbformat": 4,
  "vscode": {
   "interpreter": {
    "hash": "aee8b7b246df8f9039afb4144a1f6fd8d2ca17a180786b69acc140d282b71a49"
   }
  }
 },
 "nbformat": 4,
 "nbformat_minor": 2
}
